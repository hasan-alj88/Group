{
 "cells": [
  {
   "cell_type": "markdown",
   "metadata": {},
   "source": [
    "# Grouplib"
   ]
  },
  {
   "cell_type": "markdown",
   "metadata": {},
   "source": [
    "## Defining a Group"
   ]
  },
  {
   "cell_type": "markdown",
   "metadata": {},
   "source": [
    "### What is a Group?\n",
    "Let concider group G with operation * $(G,*)$ and <b>a</b>, <b>b</b> and <b>c</b> are elements in the group; Then:-\n",
    "    \n",
    "- <b>Closure</b> : \n",
    " - For all elements in G the result of binary operation (a * b) is also in group element set.\n",
    "- <b>Associativity</b>:\n",
    " - For all a, b and c in G, $(a * b) * c = a * (b * c)$.\n",
    "- <b>Identity element</b>:\n",
    " - There exists an element <b>e</b> in G such that, for every element a in G, the equation \n",
    "$e * a = a * e = a$\n",
    "- <b>Inverse element</b>:\n",
    " - For each a in G, there exists an element b in G, commonly denoted $a^{-1}$ , such that \n",
    "$a * b = b * a = e$\n",
    "where e is the identity element.\n",
    "\n",
    "More on Mathamatical defenination of a Group go to https://en.wikipedia.org/wiki/Group_(mathematics)"
   ]
  },
  {
   "cell_type": "markdown",
   "metadata": {},
   "source": [
    "### Constructiong groups via Grouplib\n",
    "#### Cyclic Groups\n"
   ]
  },
  {
   "cell_type": "code",
   "execution_count": 1,
   "metadata": {},
   "outputs": [
    {
     "name": "stdout",
     "output_type": "stream",
     "text": [
      "New group element set are [0, 1, 2]\n",
      "New group order 3\n",
      "Group Name:\tUnnamedGroup\n",
      "Group Reference:\tNone\n",
      "Group Order:\t3\n",
      "Abeailan group:\tTrue\n",
      "solvable : feature will available in a later version\n",
      "Multiplication table raw data:-\n",
      "0  1  2\n",
      "1  2  0\n",
      "2  0  1\n",
      "\n",
      "Element Lables:-\n",
      "0    0\n",
      "1    1\n",
      "2    2\n",
      "Name: 0, dtype: object\n",
      "Multiplication table :-\n",
      "   0  1  2\n",
      "0  0  1  2\n",
      "1  1  2  0\n",
      "2  2  0  1\n",
      "\n"
     ]
    }
   ],
   "source": [
    "from Grouplib import *\n",
    "import seaborn as sns\n",
    "import matplotlib.pyplot as plt\n",
    "C3 = Group.cyclic(3)\n",
    "print(C3)"
   ]
  },
  {
   "cell_type": "markdown",
   "metadata": {},
   "source": [
    "#### Create a Group object from list of python objects and a binary operation.\n",
    "\n",
    "Group.from_definition(operation: callable, element_set: list, parse: callable)-> Group Object\n",
    "- <b>operation: </b> The binary operation of the group.\n",
    "- <b>element_set: </b> The group's elements list.\n",
    "- <b>parse(optional): </b> The elements of the group label will be registered by output of this function.\n",
    "\n",
    "\n",
    "The fuction will accept any python object. However, the when constarting the multiplication table it will by default it will the __str__() of the object. \n",
    "Sometimes the result of __str__() of a python object that means the same thing outputs difrrent strings such as complex(0,1) can be '1j', '0+1j' or '-0+1j' which falsly will be registered as different elements. That where the <b>parse</b> function option so the user make the python element labels unique; as for the python object <b>Complex()</b> the below <b>parse</b> function can be used:-\n",
    "\n",
    "\n",
    "``\n",
    "def parse_complex(com):\n",
    "    def sign(x):\n",
    "        return '+' if x >= 0 else '-'\n",
    "    return '{}{}{}{}j'.format(sign(com.real), com.real, sign(com.imag), com.imag)\n",
    "``\n",
    "\n",
    "\n",
    "\n",
    "Example:-\n",
    "Let concider Grup G with the element set {$1$, $-1$, $i$, $-i$} under multiplication.\n"
   ]
  },
  {
   "cell_type": "code",
   "execution_count": 2,
   "metadata": {},
   "outputs": [
    {
     "name": "stdout",
     "output_type": "stream",
     "text": [
      "New group element set are [(1+0j), (-1+0j), 1j, -1j]\n",
      "New group order 4\n"
     ]
    },
    {
     "data": {
      "text/plain": [
       "<matplotlib.axes._subplots.AxesSubplot at 0xd680370>"
      ]
     },
     "execution_count": 2,
     "metadata": {},
     "output_type": "execute_result"
    },
    {
     "data": {
      "image/png": "[encoded data removed]",
      "text/plain": [
       "<Figure size 432x288 with 2 Axes>"
      ]
     },
     "metadata": {},
     "output_type": "display_data"
    }
   ],
   "source": [
    "def parse_complex(com):\n",
    "    def sign(x):\n",
    "        return '+' if x >= 0 else '-'\n",
    "    return '{}{}{}{}j'.format(sign(com.real), abs(com.real), sign(com.imag), abs(com.imag))\n",
    "\n",
    "g = Group.from_definition(\n",
    "    lambda x, y: x * y, \n",
    "    [complex(1, 0), complex(-1, 0), \n",
    "     complex(0, 1), complex(0, -1)],\n",
    "    parse_complex)\n",
    "g.plot()"
   ]
  },
  {
   "cell_type": "markdown",
   "metadata": {},
   "source": [
    "### Direct and Semi-direct products"
   ]
  },
  {
   "cell_type": "markdown",
   "metadata": {},
   "source": [
    "#### Direct product\n",
    "\n",
    "Let there be gorup $(G,*)$ and $(H,•)$ then the direct product is\n",
    "\n",
    "$(G,*)\\times(H,•) = (g1 * g2 , h1 • h2)$"
   ]
  },
  {
   "cell_type": "code",
   "execution_count": 3,
   "metadata": {},
   "outputs": [
    {
     "name": "stdout",
     "output_type": "stream",
     "text": [
      "New group element set are [(1+0j), (-1+0j), 1j, -1j]\n",
      "New group order 4\n",
      "New group element set are [0, 1]\n",
      "New group order 2\n",
      "New group element set are [0, 1, 2, 3, 4, 5, 6, 7]\n",
      "New group order 8\n"
     ]
    },
    {
     "data": {
      "text/plain": [
       "<matplotlib.axes._subplots.AxesSubplot at 0xd7050b0>"
      ]
     },
     "execution_count": 3,
     "metadata": {},
     "output_type": "execute_result"
    },
    {
     "data": {
      "image/png": "[encoded data removed]",
      "text/plain": [
       "<Figure size 432x288 with 2 Axes>"
      ]
     },
     "metadata": {},
     "output_type": "display_data"
    }
   ],
   "source": [
    "g = Group.from_definition(\n",
    "    lambda x, y: x * y, \n",
    "    [complex(1, 0), complex(-1, 0), \n",
    "     complex(0, 1), complex(0, -1)],\n",
    "    parse_complex)\n",
    "C3 = Group.cyclic(2)\n",
    "\n",
    "g_c3 = Group.direct_product(g, C3)\n",
    "g_c3.plot()"
   ]
  },
  {
   "cell_type": "markdown",
   "metadata": {},
   "source": [
    "#### Mappings"
   ]
  },
  {
   "cell_type": "code",
   "execution_count": 4,
   "metadata": {},
   "outputs": [
    {
     "name": "stdout",
     "output_type": "stream",
     "text": [
      "Mapping properties:-\n",
      "size\t[5:5]\n",
      "Injective\t[True]\n",
      "Surjective\t[True]\n",
      "Bijective\t[True]\n",
      "\tDomain\t\tCo-domain\n",
      "\t0\t->\t0\n",
      "\t1\t->\t3\n",
      "\t2\t->\t1\n",
      "\t3\t->\t2\n",
      "\n"
     ]
    }
   ],
   "source": [
    "from mapping import *\n",
    "m = Mapping.create([0, 1, 2, 3],[0, 3, 1, 2])\n",
    "print(m)"
   ]
  },
  {
   "cell_type": "markdown",
   "metadata": {},
   "source": [
    "#### Semidirect product\n",
    "Let there be gorup $(G,*)$ and $(H,•)$ with mapping fuction $\\phi:G\\rightarrow H$ then the semidirect product is:-\n",
    "\n",
    "$(G,*)\\times(H,•) = (g1 * g2 ,\\phi(h1 • h2) )$"
   ]
  },
  {
   "cell_type": "code",
   "execution_count": 6,
   "metadata": {},
   "outputs": [
    {
     "data": {
      "text/plain": [
       "False"
      ]
     },
     "execution_count": 6,
     "metadata": {},
     "output_type": "execute_result"
    }
   ],
   "source": [
    "phi = Mapping.create([0, 1, 2, 3],[0, 1, 1, 0])\n",
    "semi_g_c3 = Group.semidirect_product(g, C3, phi)\n",
    "semi_g_c3.plot()"
   ]
  },
  {
   "cell_type": "code",
   "execution_count": null,
   "metadata": {},
   "outputs": [],
   "source": []
  }
 ],
 "metadata": {
  "kernelspec": {
   "display_name": "Python 3",
   "language": "python",
   "name": "python3"
  },
  "language_info": {
   "codemirror_mode": {
    "name": "ipython",
    "version": 3
   },
   "file_extension": ".py",
   "mimetype": "text/x-python",
   "name": "python",
   "nbconvert_exporter": "python",
   "pygments_lexer": "ipython3",
   "version": "3.6.2"
  }
 },
 "nbformat": 4,
 "nbformat_minor": 1
}
