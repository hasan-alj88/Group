{
 "cells": [
  {
   "cell_type": "markdown",
   "metadata": {},
   "source": [
    "# Grouplib"
   ]
  },
  {
   "cell_type": "markdown",
   "metadata": {},
   "source": [
    "## Defining a Group"
   ]
  },
  {
   "cell_type": "markdown",
   "metadata": {},
   "source": [
    "### What is a Group?\n",
    "Let concider group G with operation  $(G,*)$ and <b>a</b>, <b>b</b> and <b>c</b> are elements in the group; Then:-\n",
    "    \n",
    "- <b>Closure</b> : \n",
    " - For all elements in G the result of binary operation (a * b) is also in group element set.\n",
    "- <b>Associativity</b>:\n",
    " - For all a, b and c in G, $(a * b) * c = a * (b * c)$.\n",
    "- <b>Identity element</b>:\n",
    " - There exists an element <b>e</b> in G such that, for every element a in G, the equation \n",
    "$e * a = a * e = a$\n",
    "- <b>Inverse element</b>:\n",
    " - For each a in G, there exists an element b in G, commonly denoted $a^{-1}$ , such that \n",
    "$a * b = b * a = e$\n",
    "where e is the identity element.\n",
    "\n",
    "More on Mathamatical defenination of a Group go to https://en.wikipedia.org/wiki/Group_(mathematics)"
   ]
  },
  {
   "cell_type": "markdown",
   "metadata": {},
   "source": [
    "### Constructiong groups via Grouplib\n",
    "#### Cyclic Groups\n"
   ]
  },
  {
   "cell_type": "code",
   "execution_count": null,
   "metadata": {},
   "outputs": [],
   "source": [
    "from Grouplib import *\n",
    "import seaborn as sns\n",
    "import matplotlib.pyplot as plt\n",
    "C3 = Group.cyclic(3,name=u'\\u21242')\n",
    "print(C3)\n",
    "C3.plot()"
   ]
  },
  {
   "cell_type": "markdown",
   "metadata": {},
   "source": [
    "#### Create a Group object from list of python objects and a binary operation.\n",
    "\n",
    "Group.from_definition(operation: callable, element_set: list, parse: callable)-> Group Object\n",
    "- <b>operation: </b> The binary operation of the group.\n",
    "- <b>element_set: </b> The group's elements list.\n",
    "- <b>parse(optional): </b> The elements of the group label will be registered by output of this function.\n",
    "\n",
    "\n",
    "The fuction will accept any python object. However, the when constarting the multiplication table it will by default it will the __str__() of the object. \n",
    "Sometimes the result of __str__() of a python object that means the same thing outputs difrrent strings such as complex(0,1) can be '1j', '0+1j' or '-0+1j' which falsly will be registered as different elements. That where the <b>parse</b> function option so the user make the python element labels unique; as for the python object <b>Complex()</b> the below <b>parse</b> function can be used:-\n",
    "\n",
    "\n",
    "``\n",
    "def parse_complex(com):\n",
    "    def sign(x):\n",
    "        return '+' if x >= 0 else '-'\n",
    "    return '{}{}{}{}j'.format(sign(com.real), com.real, sign(com.imag), com.imag)\n",
    "``\n",
    "\n",
    "\n",
    "\n",
    "Example:-\n",
    "Let concider Grup G with the element set {$1$, $-1$, $i$, $-i$} under multiplication.\n"
   ]
  },
  {
   "cell_type": "code",
   "execution_count": null,
   "metadata": {},
   "outputs": [],
   "source": [
    "def parse_complex(com):\n",
    "    def sign(x):\n",
    "        return '+' if x >= 0 else '-'\n",
    "    return '{}{}{}{}j'.format(sign(com.real), abs(com.real), sign(com.imag), abs(com.imag))\n",
    "\n",
    "g = Group.from_definition(\n",
    "    lambda x, y: x * y, \n",
    "    [complex(1, 0), complex(-1, 0), \n",
    "     complex(0, 1), complex(0, -1)],\n",
    "    parse_complex)\n",
    "g.plot()"
   ]
  },
  {
   "cell_type": "markdown",
   "metadata": {},
   "source": [
    "### Direct and Semi-direct products"
   ]
  },
  {
   "cell_type": "markdown",
   "metadata": {},
   "source": [
    "#### Direct product\n",
    "\n",
    "Let there be gorup $(G,*)$ and $(H,•)$ then the direct product is\n",
    "\n",
    "$(G,*)\\times(H,•) = (g1 * g2 , h1 • h2)$"
   ]
  },
  {
   "cell_type": "code",
   "execution_count": null,
   "metadata": {},
   "outputs": [],
   "source": [
    "g = Group.from_definition(\n",
    "    lambda x, y: x * y, \n",
    "    [complex(1, 0), complex(-1, 0), \n",
    "     complex(0, 1), complex(0, -1)],\n",
    "    parse_complex)\n",
    "C3 = Group.cyclic(2)\n",
    "\n",
    "g_c3 = Group.direct_product(g, C3)\n",
    "g_c3.plot()"
   ]
  },
  {
   "cell_type": "markdown",
   "metadata": {},
   "source": [
    "#### Mappings"
   ]
  },
  {
   "cell_type": "code",
   "execution_count": null,
   "metadata": {},
   "outputs": [],
   "source": [
    "from mapping import *\n",
    "m = Mapping.create([0, 1, 2, 3], [0, 3, 1, 2])"
   ]
  },
  {
   "cell_type": "markdown",
   "metadata": {},
   "source": [
    "#### Semidirect product\n",
    "Let there be gorup $(G,*)$ and $(H,•)$ with mapping fuction $\\phi:G\\rightarrow H$ then the semidirect product is:-\n",
    "\n",
    "$(G,*)\\times(H,•) = (g1 * g2 ,\\phi(h1 • h2) )$"
   ]
  },
  {
   "cell_type": "code",
   "execution_count": null,
   "metadata": {},
   "outputs": [],
   "source": [
    "phi = Mapping.create([0, 1, 2, 3],[0, 1, 1, 0])\n",
    "semi_g_c3 = Group.semidirect_product(g, C3, phi)\n",
    "semi_g_c3.plot()"
   ]
  },
  {
   "cell_type": "markdown",
   "metadata": {},
   "source": [
    "#### Create a group from file\n",
    "\n",
    "File guidlines:\n",
    "- The file must only contain the multiplication table \n",
    "- The default delimiter is tab\n",
    "- It must a valid multiplication table where its a squre latin grid\n",
    "- The multiplication table entries are treated as labels \n",
    "- The first entry is always the Identity element\n",
    "\n",
    "Group.from_file(filename,delimiter,name)\n",
    "        * Reads Cayley table (Multiplication table) from a file.\n",
    "        - [!] The Elements are separated by the delimiter (default : Tab) and row every new line.\n",
    "        - [!] The table must obey the Group Axiom. ie the table must be a latin grid.\n",
    "        -> :param filename: The file path and name\n",
    "        -> :param delimiter: string that separate the group elements in a row, default Tab.\n",
    "        -> :param name :(optional) group name \n",
    "        <- :return: Group Object"
   ]
  },
  {
   "cell_type": "code",
   "execution_count": null,
   "metadata": {},
   "outputs": [],
   "source": [
    "text_file = open('TestData\\order8.tsv', 'r').readlines()\n",
    "for line in text_file:\n",
    "    print(line)"
   ]
  },
  {
   "cell_type": "code",
   "execution_count": null,
   "metadata": {},
   "outputs": [],
   "source": [
    "g_from_file = Group.from_file('TestData\\order8.tsv',name='Group1')\n",
    "g_from_file.plot()\n",
    "print(g_from_file)\n"
   ]
  },
  {
   "cell_type": "markdown",
   "metadata": {},
   "source": [
    "## Group Properties"
   ]
  },
  {
   "cell_type": "markdown",
   "metadata": {},
   "source": [
    "### Generators"
   ]
  },
  {
   "cell_type": "code",
   "execution_count": null,
   "metadata": {},
   "outputs": [],
   "source": [
    "\n",
    "group1 = Group.from_file('TestData\\order9.tsv',name='Group1')\n",
    "print(group1)\n"
   ]
  },
  {
   "cell_type": "markdown",
   "metadata": {},
   "source": [
    "### Orbits"
   ]
  },
  {
   "cell_type": "code",
   "execution_count": null,
   "metadata": {},
   "outputs": [],
   "source": [
    "group1.orbits"
   ]
  },
  {
   "cell_type": "markdown",
   "metadata": {},
   "source": [
    "### Subgroups"
   ]
  },
  {
   "cell_type": "code",
   "execution_count": null,
   "metadata": {},
   "outputs": [],
   "source": [
    "from Grouplib import *\n",
    "group1 = Group.from_file('TestData\\order8.tsv',name='Group1')\n",
    "for sg in  group1.subgroups:\n",
    "    print(sg['subgroup'])\n",
    "    print('_____________________________________________________')"
   ]
  },
  {
   "cell_type": "code",
   "execution_count": null,
   "metadata": {},
   "outputs": [],
   "source": [
    "group1.find_isomorphic_mapping(Group.cyclic(2))"
   ]
  },
  {
   "cell_type": "code",
   "execution_count": null,
   "metadata": {},
   "outputs": [],
   "source": [
    "from Grouplib import *\n",
    "group1 = Group.from_file('TestData\\order8.tsv',name='Group1')\n",
    "group1.orbits"
   ]
  },
  {
   "cell_type": "code",
   "execution_count": null,
   "metadata": {},
   "outputs": [],
   "source": [
    "group1.is_associative"
   ]
  },
  {
   "cell_type": "code",
   "execution_count": null,
   "metadata": {},
   "outputs": [],
   "source": [
    "from Grouplib import *\n",
    "group1 = Group.from_file('TestData\\order9.tsv',name='Group1')"
   ]
  },
  {
   "cell_type": "code",
   "execution_count": null,
   "metadata": {},
   "outputs": [],
   "source": [
    "\n",
    "\n"
   ]
  },
  {
   "cell_type": "code",
   "execution_count": 1,
   "metadata": {},
   "outputs": [
    {
     "data": {
      "text/plain": [
       "<matplotlib.axes._subplots.AxesSubplot at 0xe0bcef0>"
      ]
     },
     "execution_count": 1,
     "metadata": {},
     "output_type": "execute_result"
    }
   ],
   "source": [
    "from Grouplib import *\n",
    "\n",
    "group1 = Group.from_file('TestData\\order20.tsv',name='Group1')\n",
    "group1.plot()"
   ]
  },
  {
   "cell_type": "code",
   "execution_count": 2,
   "metadata": {},
   "outputs": [
    {
     "data": {
      "text/plain": [
       "[[0],\n",
       " [1],\n",
       " [2],\n",
       " [3],\n",
       " [4],\n",
       " [5],\n",
       " [6],\n",
       " [7],\n",
       " [8],\n",
       " [9],\n",
       " [10],\n",
       " [11],\n",
       " [12],\n",
       " [13],\n",
       " [14],\n",
       " [15],\n",
       " [16],\n",
       " [17],\n",
       " [18],\n",
       " [19]]"
      ]
     },
     "execution_count": 2,
     "metadata": {},
     "output_type": "execute_result"
    }
   ],
   "source": [
    "group1.conjugacy_classes"
   ]
  },
  {
   "cell_type": "code",
   "execution_count": 10,
   "metadata": {},
   "outputs": [
    {
     "name": "stdout",
     "output_type": "stream",
     "text": [
      "   0  1  2  3  4  5  6  7\n",
      "0  0  1  2  3  4  5  6  7\n",
      "1  1  6  4  5  0  3  7  2\n",
      "2  2  0  1  7  3  4  5  6\n",
      "3  3  5  0  4  6  7  2  1\n",
      "4  4  2  7  1  5  6  3  0\n",
      "5  5  4  6  2  7  0  1  3\n",
      "6  6  7  3  0  1  2  4  5\n",
      "7  7  3  5  6  2  1  0  4\n"
     ]
    },
    {
     "ename": "ValueError",
     "evalue": "A Group must be associative (a*b)*c == a*(b*c)",
     "output_type": "error",
     "traceback": [
      "\u001b[0;31m---------------------------------------------------------------------------\u001b[0m",
      "\u001b[0;31mValueError\u001b[0m                                Traceback (most recent call last)",
      "\u001b[0;32m<ipython-input-10-82c24d36f2c4>\u001b[0m in \u001b[0;36m<module>\u001b[0;34m()\u001b[0m\n\u001b[1;32m     25\u001b[0m \u001b[0msq\u001b[0m \u001b[0;34m=\u001b[0m \u001b[0mrandom_latin_square\u001b[0m\u001b[0;34m(\u001b[0m\u001b[0;36m8\u001b[0m\u001b[0;34m)\u001b[0m\u001b[0;34m\u001b[0m\u001b[0m\n\u001b[1;32m     26\u001b[0m \u001b[0mprint\u001b[0m\u001b[0;34m(\u001b[0m\u001b[0msq\u001b[0m\u001b[0;34m)\u001b[0m\u001b[0;34m\u001b[0m\u001b[0m\n\u001b[0;32m---> 27\u001b[0;31m \u001b[0mgroup8\u001b[0m \u001b[0;34m=\u001b[0m \u001b[0mGroup\u001b[0m\u001b[0;34m(\u001b[0m\u001b[0msq\u001b[0m\u001b[0;34m,\u001b[0m \u001b[0mname\u001b[0m\u001b[0;34m=\u001b[0m\u001b[0;34m'Group8'\u001b[0m\u001b[0;34m)\u001b[0m\u001b[0;34m\u001b[0m\u001b[0m\n\u001b[0m\u001b[1;32m     28\u001b[0m \u001b[0mgroup8\u001b[0m\u001b[0;34m.\u001b[0m\u001b[0mplot\u001b[0m\u001b[0;34m(\u001b[0m\u001b[0;34m)\u001b[0m\u001b[0;34m\u001b[0m\u001b[0m\n",
      "\u001b[0;32mC:\\Users\\HHJ\\PycharmProjects\\Group\\Group\\Grouplib.py\u001b[0m in \u001b[0;36m__init__\u001b[0;34m(self, cayley_table, name)\u001b[0m\n\u001b[1;32m     29\u001b[0m         \u001b[0mself\u001b[0m\u001b[0;34m.\u001b[0m\u001b[0m_is_solvable\u001b[0m \u001b[0;34m=\u001b[0m \u001b[0;32mNone\u001b[0m\u001b[0;34m\u001b[0m\u001b[0m\n\u001b[1;32m     30\u001b[0m         \u001b[0mself\u001b[0m\u001b[0;34m.\u001b[0m\u001b[0m_subgroups\u001b[0m \u001b[0;34m=\u001b[0m \u001b[0;32mNone\u001b[0m\u001b[0;34m\u001b[0m\u001b[0m\n\u001b[0;32m---> 31\u001b[0;31m         \u001b[0mself\u001b[0m\u001b[0;34m.\u001b[0m\u001b[0mnormalize_table\u001b[0m\u001b[0;34m(\u001b[0m\u001b[0;34m)\u001b[0m\u001b[0;34m\u001b[0m\u001b[0m\n\u001b[0m\u001b[1;32m     32\u001b[0m \u001b[0;34m\u001b[0m\u001b[0m\n\u001b[1;32m     33\u001b[0m     \u001b[0;32mdef\u001b[0m \u001b[0m__str__\u001b[0m\u001b[0;34m(\u001b[0m\u001b[0mself\u001b[0m\u001b[0;34m)\u001b[0m\u001b[0;34m:\u001b[0m\u001b[0;34m\u001b[0m\u001b[0m\n",
      "\u001b[0;32mC:\\Users\\HHJ\\PycharmProjects\\Group\\Group\\Grouplib.py\u001b[0m in \u001b[0;36mnormalize_table\u001b[0;34m(self)\u001b[0m\n\u001b[1;32m     69\u001b[0m                                                       to_replace=list(self.element_labels))\n\u001b[1;32m     70\u001b[0m         \u001b[0mlogger\u001b[0m\u001b[0;34m.\u001b[0m\u001b[0mdebug\u001b[0m\u001b[0;34m(\u001b[0m\u001b[0;34m'Table raw data:-\\n{}'\u001b[0m\u001b[0;34m.\u001b[0m\u001b[0mformat\u001b[0m\u001b[0;34m(\u001b[0m\u001b[0mself\u001b[0m\u001b[0;34m.\u001b[0m\u001b[0mcayley_table\u001b[0m\u001b[0;34m)\u001b[0m\u001b[0;34m)\u001b[0m\u001b[0;34m\u001b[0m\u001b[0m\n\u001b[0;32m---> 71\u001b[0;31m         \u001b[0mself\u001b[0m\u001b[0;34m.\u001b[0m\u001b[0mvalidate_table\u001b[0m\u001b[0;34m(\u001b[0m\u001b[0;34m)\u001b[0m\u001b[0;34m\u001b[0m\u001b[0m\n\u001b[0m\u001b[1;32m     72\u001b[0m         \u001b[0;32mreturn\u001b[0m\u001b[0;34m\u001b[0m\u001b[0m\n\u001b[1;32m     73\u001b[0m \u001b[0;34m\u001b[0m\u001b[0m\n",
      "\u001b[0;32mC:\\Users\\HHJ\\PycharmProjects\\Group\\Group\\Grouplib.py\u001b[0m in \u001b[0;36mvalidate_table\u001b[0;34m(self)\u001b[0m\n\u001b[1;32m    102\u001b[0m         \u001b[0;31m# A Group must be associative (a*b)*c == a*(b*c)\u001b[0m\u001b[0;34m\u001b[0m\u001b[0;34m\u001b[0m\u001b[0m\n\u001b[1;32m    103\u001b[0m         \u001b[0;32mif\u001b[0m \u001b[0;32mnot\u001b[0m \u001b[0mself\u001b[0m\u001b[0;34m.\u001b[0m\u001b[0mis_associative\u001b[0m\u001b[0;34m:\u001b[0m\u001b[0;34m\u001b[0m\u001b[0m\n\u001b[0;32m--> 104\u001b[0;31m             \u001b[0;32mraise\u001b[0m \u001b[0mValueError\u001b[0m\u001b[0;34m(\u001b[0m\u001b[0;34m'A Group must be associative (a*b)*c == a*(b*c)'\u001b[0m\u001b[0;34m)\u001b[0m\u001b[0;34m\u001b[0m\u001b[0m\n\u001b[0m\u001b[1;32m    105\u001b[0m         \u001b[0;32mreturn\u001b[0m\u001b[0;34m\u001b[0m\u001b[0m\n\u001b[1;32m    106\u001b[0m \u001b[0;34m\u001b[0m\u001b[0m\n",
      "\u001b[0;31mValueError\u001b[0m: A Group must be associative (a*b)*c == a*(b*c)"
     ]
    }
   ],
   "source": [
    "from itertools import product\n",
    "from Permutation import *\n",
    "\n",
    "\n",
    "def random_latin_square(size: int)->pd.DataFrame:\n",
    "    while True:\n",
    "        square = [[i for i in range(size)]]\n",
    "        square = square + [[i] for i in range(1, size)]\n",
    "        square = pd.DataFrame(square)\n",
    "        square.fillna(value=size, inplace=True)\n",
    "        complete_set = set(range(size))\n",
    "        try:\n",
    "            for row_ind, col_ind in product(range(1, size), repeat=2):\n",
    "                collision = set(map(int, square.iloc[row_ind, :]))\n",
    "                collision = set(map(int, square.iloc[:, col_ind])) | collision\n",
    "                allowed_entries = list(complete_set.difference(collision))\n",
    "                n = randint(0, len(allowed_entries)-1)\n",
    "                square.iat[row_ind, col_ind] = allowed_entries[n]\n",
    "            break\n",
    "        except ValueError:\n",
    "            continue\n",
    "    square = square.astype(int)\n",
    "    return square\n",
    "\n",
    "while Ture:\n",
    "sq = random_latin_square(8)\n",
    "print(sq)\n",
    "group8 = Group(sq, name='Group8')\n",
    "group8.plot()"
   ]
  },
  {
   "cell_type": "code",
   "execution_count": null,
   "metadata": {},
   "outputs": [],
   "source": []
  }
 ],
 "metadata": {
  "kernelspec": {
   "display_name": "Python 3",
   "language": "python",
   "name": "python3"
  },
  "language_info": {
   "codemirror_mode": {
    "name": "ipython",
    "version": 3
   },
   "file_extension": ".py",
   "mimetype": "text/x-python",
   "name": "python",
   "nbconvert_exporter": "python",
   "pygments_lexer": "ipython3",
   "version": "3.6.2"
  }
 },
 "nbformat": 4,
 "nbformat_minor": 1
}
