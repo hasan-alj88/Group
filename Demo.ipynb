{
 "cells": [
  {
   "cell_type": "markdown",
   "metadata": {},
   "source": [
    "# Grouplib"
   ]
  },
  {
   "cell_type": "markdown",
   "metadata": {},
   "source": [
    "## Defining a Group"
   ]
  },
  {
   "cell_type": "markdown",
   "metadata": {},
   "source": [
    "### What is a Group?\n",
    "Let concider group G with operation  $(G,*)$ and <b>a</b>, <b>b</b> and <b>c</b> are elements in the group; Then:-\n",
    "    \n",
    "- <b>Closure</b> : \n",
    " - For all elements in G the result of binary operation (a * b) is also in group element set.\n",
    "- <b>Associativity</b>:\n",
    " - For all a, b and c in G, $(a * b) * c = a * (b * c)$.\n",
    "- <b>Identity element</b>:\n",
    " - There exists an element <b>e</b> in G such that, for every element a in G, the equation \n",
    "$e * a = a * e = a$\n",
    "- <b>Inverse element</b>:\n",
    " - For each a in G, there exists an element b in G, commonly denoted $a^{-1}$ , such that \n",
    "$a * b = b * a = e$\n",
    "where e is the identity element.\n",
    "\n",
    "More on Mathamatical defenination of a Group go to https://en.wikipedia.org/wiki/Group_(mathematics)"
   ]
  },
  {
   "cell_type": "markdown",
   "metadata": {},
   "source": [
    "### Constructiong groups via Grouplib\n",
    "#### Cyclic Groups\n"
   ]
  },
  {
   "cell_type": "code",
   "metadata": {
    "ExecuteTime": {
     "end_time": "2025-01-18T15:05:24.790511Z",
     "start_time": "2025-01-18T15:05:24.642521Z"
    }
   },
   "source": "from FiniteGroup import FiniteGroup",
   "outputs": [
    {
     "ename": "ConfigError",
     "evalue": "Validators defined with incorrect fields: init_labels (use check_fields=False if you're inheriting from the model and intended this)",
     "output_type": "error",
     "traceback": [
      "\u001B[1;31m---------------------------------------------------------------------------\u001B[0m",
      "\u001B[1;31mConfigError\u001B[0m                               Traceback (most recent call last)",
      "Cell \u001B[1;32mIn[3], line 1\u001B[0m\n\u001B[1;32m----> 1\u001B[0m \u001B[38;5;28;01mfrom\u001B[39;00m \u001B[38;5;21;01mGrouplib\u001B[39;00m\u001B[38;5;21;01m.\u001B[39;00m\u001B[38;5;21;01mFiniteGroup\u001B[39;00m \u001B[38;5;28;01mimport\u001B[39;00m FiniteGroup\n",
      "File \u001B[1;32m~\\PycharmProjects\\MTD\\Group\\Grouplib\\FiniteGroup.py:16\u001B[0m\n\u001B[0;32m     11\u001B[0m \u001B[38;5;28;01mfrom\u001B[39;00m \u001B[38;5;21;01mRelationMapping\u001B[39;00m \u001B[38;5;28;01mimport\u001B[39;00m RelationMapping\n\u001B[0;32m     13\u001B[0m T \u001B[38;5;241m=\u001B[39m TypeVar(\u001B[38;5;124m'\u001B[39m\u001B[38;5;124mT\u001B[39m\u001B[38;5;124m'\u001B[39m)\n\u001B[1;32m---> 16\u001B[0m \u001B[38;5;28;01mclass\u001B[39;00m \u001B[38;5;21;01mFiniteGroup\u001B[39;00m(BaseModel):\n\u001B[0;32m     17\u001B[0m \u001B[38;5;250m    \u001B[39m\u001B[38;5;124;03m\"\"\"A mathematical group represented by its Cayley table with identity at index 0.\"\"\"\u001B[39;00m\n\u001B[0;32m     19\u001B[0m     cayley_table: NDArray[\u001B[38;5;28mint\u001B[39m] \u001B[38;5;241m=\u001B[39m Field(\n\u001B[0;32m     20\u001B[0m         description\u001B[38;5;241m=\u001B[39m\u001B[38;5;124m\"\u001B[39m\u001B[38;5;124mCayley table representing the group operation\u001B[39m\u001B[38;5;124m\"\u001B[39m\n\u001B[0;32m     21\u001B[0m     )\n",
      "File \u001B[1;32m~\\.conda\\envs\\Group\\Lib\\site-packages\\pydantic\\v1\\main.py:241\u001B[0m, in \u001B[0;36mModelMetaclass.__new__\u001B[1;34m(mcs, name, bases, namespace, **kwargs)\u001B[0m\n\u001B[0;32m    239\u001B[0m \u001B[38;5;28;01mif\u001B[39;00m _custom_root_type:\n\u001B[0;32m    240\u001B[0m     validate_custom_root_type(fields)\n\u001B[1;32m--> 241\u001B[0m vg\u001B[38;5;241m.\u001B[39mcheck_for_unused()\n\u001B[0;32m    242\u001B[0m \u001B[38;5;28;01mif\u001B[39;00m config\u001B[38;5;241m.\u001B[39mjson_encoders:\n\u001B[0;32m    243\u001B[0m     json_encoder \u001B[38;5;241m=\u001B[39m partial(custom_pydantic_encoder, config\u001B[38;5;241m.\u001B[39mjson_encoders)\n",
      "File \u001B[1;32m~\\.conda\\envs\\Group\\Lib\\site-packages\\pydantic\\v1\\class_validators.py:189\u001B[0m, in \u001B[0;36mValidatorGroup.check_for_unused\u001B[1;34m(self)\u001B[0m\n\u001B[0;32m    187\u001B[0m \u001B[38;5;28;01mif\u001B[39;00m unused_validators:\n\u001B[0;32m    188\u001B[0m     fn \u001B[38;5;241m=\u001B[39m \u001B[38;5;124m'\u001B[39m\u001B[38;5;124m, \u001B[39m\u001B[38;5;124m'\u001B[39m\u001B[38;5;241m.\u001B[39mjoin(unused_validators)\n\u001B[1;32m--> 189\u001B[0m     \u001B[38;5;28;01mraise\u001B[39;00m ConfigError(\n\u001B[0;32m    190\u001B[0m         \u001B[38;5;124mf\u001B[39m\u001B[38;5;124m\"\u001B[39m\u001B[38;5;124mValidators defined with incorrect fields: \u001B[39m\u001B[38;5;132;01m{\u001B[39;00mfn\u001B[38;5;132;01m}\u001B[39;00m\u001B[38;5;124m \u001B[39m\u001B[38;5;124m\"\u001B[39m  \u001B[38;5;66;03m# noqa: Q000\u001B[39;00m\n\u001B[0;32m    191\u001B[0m         \u001B[38;5;124mf\u001B[39m\u001B[38;5;124m\"\u001B[39m\u001B[38;5;124m(use check_fields=False if you\u001B[39m\u001B[38;5;124m'\u001B[39m\u001B[38;5;124mre inheriting from the model and intended this)\u001B[39m\u001B[38;5;124m\"\u001B[39m\n\u001B[0;32m    192\u001B[0m     )\n",
      "\u001B[1;31mConfigError\u001B[0m: Validators defined with incorrect fields: init_labels (use check_fields=False if you're inheriting from the model and intended this)"
     ]
    }
   ],
   "execution_count": 3
  },
  {
   "cell_type": "code",
   "metadata": {
    "ExecuteTime": {
     "end_time": "2025-01-18T15:04:48.940739Z",
     "start_time": "2025-01-18T15:04:48.439550Z"
    }
   },
   "source": "C3 = FiniteGroup.cyclic(3)",
   "outputs": [
    {
     "ename": "NameError",
     "evalue": "name 'FiniteGroup' is not defined",
     "output_type": "error",
     "traceback": [
      "\u001B[1;31m---------------------------------------------------------------------------\u001B[0m",
      "\u001B[1;31mNameError\u001B[0m                                 Traceback (most recent call last)",
      "Cell \u001B[1;32mIn[2], line 1\u001B[0m\n\u001B[1;32m----> 1\u001B[0m C3 \u001B[38;5;241m=\u001B[39m FiniteGroup\u001B[38;5;241m.\u001B[39mcyclic(\u001B[38;5;241m3\u001B[39m)\n",
      "\u001B[1;31mNameError\u001B[0m: name 'FiniteGroup' is not defined"
     ]
    }
   ],
   "execution_count": 2
  },
  {
   "cell_type": "code",
   "metadata": {},
   "source": [
    "C3.multiplication_table"
   ],
   "outputs": [],
   "execution_count": null
  },
  {
   "cell_type": "markdown",
   "metadata": {},
   "source": [
    "#### Symitric Group"
   ]
  },
  {
   "cell_type": "code",
   "metadata": {},
   "source": [
    "\n",
    "S4 = Group.symmetric(4)\n",
    "print(S4)"
   ],
   "outputs": [],
   "execution_count": null
  },
  {
   "cell_type": "code",
   "metadata": {},
   "source": [
    "%matplotlib inline\n",
    "S4.plot(annot=False)"
   ],
   "outputs": [],
   "execution_count": null
  },
  {
   "cell_type": "markdown",
   "metadata": {},
   "source": [
    "#### Dihedral Groups"
   ]
  },
  {
   "cell_type": "code",
   "metadata": {},
   "source": [
    "#import Grouplib\n",
    "D4 = Group.dihedral(4)\n",
    "print(D4)"
   ],
   "outputs": [],
   "execution_count": null
  },
  {
   "cell_type": "code",
   "metadata": {},
   "source": [
    "D4.plot()"
   ],
   "outputs": [],
   "execution_count": null
  },
  {
   "cell_type": "markdown",
   "metadata": {},
   "source": [
    "#### Create a Group object from list of python objects and a binary operation.\n",
    "```python\n",
    "Group.from_definition(operation: callable, element_set: list, parse: callable)-> Group Object\n",
    "```\n",
    "- <b>operation: </b> The binary operation of the group.\n",
    "- <b>element_set: </b> The group's elements list.\n",
    "- <b>parse(optional): </b> The elements of the group label will be registered by output of this function.\n",
    "\n",
    "\n",
    "The fuction will accept any python object. However, the when constarting the multiplication table it will by default it will the __str__() of the object. \n",
    "Sometimes the result of __str__() of a python object that means the same thing outputs difrrent strings such as complex(0,1) can be '1j', '0+1j' or '-0+1j' which falsly will be registered as different elements. That where the <b>parse</b> function option so the user make the python element labels unique; as for the python object <b>Complex()</b> the below <b>parse</b> function can be used:-\n",
    "\n",
    "\n",
    "```python\n",
    "def parse_complex(com):\n",
    "    def sign(x):\n",
    "        return '+' if x >= 0 else '-'\n",
    "    return '{}{}{}{}j'.format(sign(com.real), com.real, sign(com.imag), com.imag)\n",
    "```\n",
    "\n",
    "\n",
    "\n",
    "Example:-\n",
    "Let concider Grup G with the element set {$1$, $-1$, $i$, $-i$} under multiplication.\n"
   ]
  },
  {
   "cell_type": "code",
   "metadata": {},
   "source": [
    "def parse_complex(com):\n",
    "    def sign(x):\n",
    "        return '+' if x >= 0 else '-'\n",
    "    return '{}{}{}{}j'.format(sign(com.real), abs(com.real), sign(com.imag), abs(com.imag))\n",
    "\n",
    "g = Group.from_definition(\n",
    "    lambda x, y: x * y, \n",
    "    [complex(1, 0), complex(-1, 0), \n",
    "     complex(0, 1), complex(0, -1)],\n",
    "    parse_complex)\n",
    "g.multiplication_table"
   ],
   "outputs": [],
   "execution_count": null
  },
  {
   "cell_type": "code",
   "metadata": {},
   "source": [
    "g.plot()"
   ],
   "outputs": [],
   "execution_count": null
  },
  {
   "cell_type": "markdown",
   "metadata": {},
   "source": [
    "### Direct and Semi-direct products"
   ]
  },
  {
   "cell_type": "markdown",
   "metadata": {},
   "source": [
    "#### Direct product\n",
    "\n",
    "Let there be gorup $(G,*)$ and $(H,•)$ then the direct product is\n",
    "\n",
    "$(G,*)\\times(H,•) = (g1 * g2 , h1 • h2)$"
   ]
  },
  {
   "cell_type": "code",
   "metadata": {},
   "source": [
    "g = Group.from_definition(\n",
    "    lambda x, y: x * y, \n",
    "    [complex(1, 0), complex(-1, 0), \n",
    "     complex(0, 1), complex(0, -1)],\n",
    "    parse_complex)\n",
    "C3 = Group.cyclic(2)\n",
    "\n",
    "g_c3 = Group.direct_product(g, C3)\n",
    "g_c3.plot()"
   ],
   "outputs": [],
   "execution_count": null
  },
  {
   "cell_type": "markdown",
   "metadata": {},
   "source": [
    "#### Mappings"
   ]
  },
  {
   "cell_type": "code",
   "metadata": {},
   "source": [
    "from mapping import *\n",
    "%matplotlib inline\n",
    "m = Mapping.create([0, 1, 2, 3], [0, 3, 1, 2])\n"
   ],
   "outputs": [],
   "execution_count": null
  },
  {
   "cell_type": "code",
   "metadata": {},
   "source": [],
   "outputs": [],
   "execution_count": null
  },
  {
   "cell_type": "markdown",
   "metadata": {},
   "source": [
    "#### Semidirect product\n",
    "Let there be gorup $(G,*)$ and $(H,•)$ with mapping fuction $\\phi:G\\rightarrow H$ then the semidirect product is:-\n",
    "\n",
    "$(G,*)\\times(H,•) = (g1 * g2 ,\\phi(h1 • h2) )$"
   ]
  },
  {
   "cell_type": "code",
   "metadata": {},
   "source": [
    "phi = Mapping.create([0, 1, 2, 3],[0,2, 1, 0])\n",
    "semi_g_c3 = Group.semidirect_product(g, C3, phi)\n",
    "semi_g_c3.plot()"
   ],
   "outputs": [],
   "execution_count": null
  },
  {
   "cell_type": "markdown",
   "metadata": {},
   "source": [
    "#### Create a group from file\n",
    "\n",
    "File guidlines:\n",
    "- The file must only contain the multiplication table \n",
    "- The default delimiter is tab\n",
    "- It must a valid multiplication table where its a squre latin grid\n",
    "- The multiplication table entries are treated as labels \n",
    "- The first entry is always the Identity element\n",
    "\n",
    "Group.from_file(filename,delimiter,name)\n",
    "        * Reads Cayley table (Multiplication table) from a file.\n",
    "        - [!] The Elements are separated by the delimiter (default : Tab) and row every new line.\n",
    "        - [!] The table must obey the Group Axiom. ie the table must be a latin grid.\n",
    "        -> :param filename: The file path and name\n",
    "        -> :param delimiter: string that separate the group elements in a row, default Tab.\n",
    "        -> :param name :(optional) group name \n",
    "        <- :return: Group Object"
   ]
  },
  {
   "cell_type": "code",
   "metadata": {},
   "source": [
    "text_file = open('TestData\\order9.tsv', 'r').readlines()\n",
    "for line in text_file:\n",
    "    print(line)"
   ],
   "outputs": [],
   "execution_count": null
  },
  {
   "cell_type": "code",
   "metadata": {},
   "source": [
    "\n",
    "g_from_file = Group.from_file('TestData\\order8.tsv',name='Group1')\n",
    "g_from_file.plot()\n",
    "print(g_from_file)\n"
   ],
   "outputs": [],
   "execution_count": null
  },
  {
   "cell_type": "markdown",
   "metadata": {},
   "source": [
    "## Group Properties"
   ]
  },
  {
   "cell_type": "markdown",
   "metadata": {},
   "source": [
    "### Generators"
   ]
  },
  {
   "cell_type": "code",
   "metadata": {},
   "source": [
    "\n",
    "group1 = Group.from_file('TestData\\order9.tsv',name='Group1')\n",
    "print(group1)\n"
   ],
   "outputs": [],
   "execution_count": null
  },
  {
   "cell_type": "markdown",
   "metadata": {},
   "source": [
    "### Orbits"
   ]
  },
  {
   "cell_type": "code",
   "metadata": {},
   "source": [
    "group1.orbits"
   ],
   "outputs": [],
   "execution_count": null
  },
  {
   "cell_type": "markdown",
   "metadata": {},
   "source": [
    "### Subgroups"
   ]
  },
  {
   "cell_type": "code",
   "metadata": {},
   "source": [
    "\n",
    "group1 = Group.symmetric(3)\n",
    "for sg in  group1.subgroups:\n",
    "    print(sg['subgroup'])\n",
    "    print('_____________________________________________________')"
   ],
   "outputs": [],
   "execution_count": null
  },
  {
   "cell_type": "code",
   "metadata": {},
   "source": [
    "group1.find_isomorphic_mapping(Group.cyclic(2))"
   ],
   "outputs": [],
   "execution_count": null
  },
  {
   "cell_type": "code",
   "metadata": {},
   "source": [
    "\n",
    "group1 = Group.from_file('TestData\\order8.tsv',name='Group1')\n",
    "group1.orbits"
   ],
   "outputs": [],
   "execution_count": null
  },
  {
   "cell_type": "code",
   "metadata": {},
   "source": [
    "group1.is_associative"
   ],
   "outputs": [],
   "execution_count": null
  },
  {
   "cell_type": "code",
   "metadata": {},
   "source": [
    "\n",
    "group1 = Group.from_file('TestData\\order9.tsv',name='Group1')"
   ],
   "outputs": [],
   "execution_count": null
  },
  {
   "cell_type": "code",
   "metadata": {},
   "source": [
    "### Conjugacy classes"
   ],
   "outputs": [],
   "execution_count": null
  },
  {
   "cell_type": "code",
   "metadata": {},
   "source": [
    "\n",
    "import pandas as pd\n",
    "\n",
    "D6 = Group.dihedral(6)\n",
    "#D6.center\n",
    "D6.conjugacy_classes\n",
    "#D6.conjugacy_class_of(2)\n",
    "#D6.orbits.iloc[:,2].dropna().astype(int).tolist()\n",
    "#D6.generators"
   ],
   "outputs": [],
   "execution_count": null
  },
  {
   "cell_type": "code",
   "metadata": {},
   "source": [
    "#group1.conjugacy_classes"
   ],
   "outputs": [],
   "execution_count": null
  },
  {
   "cell_type": "code",
   "metadata": {},
   "source": [
    "from itertools import product\n",
    "from Permutation import *\n",
    "\n",
    "\n",
    "def random_latin_square(size: int)->pd.DataFrame:\n",
    "    while True:\n",
    "        square = [[i for i in range(size)]]\n",
    "        square = square + [[i] for i in range(1, size)]\n",
    "        square = pd.DataFrame(square)\n",
    "        square.fillna(value=size, inplace=True)\n",
    "        complete_set = set(range(size))\n",
    "        try:\n",
    "            for row_ind, col_ind in product(range(1, size), repeat=2):\n",
    "                collision = set(map(int, square.iloc[row_ind, :]))\n",
    "                collision = set(map(int, square.iloc[:, col_ind])) | collision\n",
    "                allowed_entries = list(complete_set.difference(collision))\n",
    "                n = randint(0, len(allowed_entries)-1)\n",
    "                square.iat[row_ind, col_ind] = allowed_entries[n]\n",
    "            break\n",
    "        except ValueError:\n",
    "            continue\n",
    "    square = square.astype(int)\n",
    "    return square\n",
    "\n",
    "while Ture:\n",
    "sq = random_latin_square(8)\n",
    "print(sq)\n",
    "group8 = Group(sq, name='Group8')\n",
    "group8.plot()"
   ],
   "outputs": [],
   "execution_count": null
  },
  {
   "cell_type": "code",
   "metadata": {},
   "source": [
    "cl = {1, 6 , 8}\n",
    "cl = [_ for _ in cl]\n",
    "cl = cl.sort()\n",
    "print(cl)"
   ],
   "outputs": [],
   "execution_count": null
  },
  {
   "cell_type": "code",
   "metadata": {},
   "source": [],
   "outputs": [],
   "execution_count": null
  },
  {
   "cell_type": "code",
   "metadata": {},
   "source": [
    "from Mapping import *\n"
   ],
   "outputs": [],
   "execution_count": null
  },
  {
   "cell_type": "code",
   "metadata": {},
   "source": [
    "\n",
    "\n",
    "D = Group.dihedral(3)\n",
    "S = Group.symmetric(3)\n",
    "D.generators\n"
   ],
   "outputs": [],
   "execution_count": null
  },
  {
   "cell_type": "code",
   "metadata": {},
   "source": [],
   "outputs": [],
   "execution_count": null
  }
 ],
 "metadata": {
  "anaconda-cloud": {},
  "kernelspec": {
   "display_name": "Python 3",
   "language": "python",
   "name": "python3"
  },
  "language_info": {
   "codemirror_mode": {
    "name": "ipython",
    "version": 3
   },
   "file_extension": ".py",
   "mimetype": "text/x-python",
   "name": "python",
   "nbconvert_exporter": "python",
   "pygments_lexer": "ipython3",
   "version": "3.6.2"
  }
 },
 "nbformat": 4,
 "nbformat_minor": 1
}
