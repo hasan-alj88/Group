{
 "cells": [
  {
   "cell_type": "markdown",
   "metadata": {},
   "source": [
    "# Grouplib"
   ]
  },
  {
   "cell_type": "markdown",
   "metadata": {},
   "source": [
    "## Defining a Group"
   ]
  },
  {
   "cell_type": "markdown",
   "metadata": {},
   "source": [
    "### What is a Group?\n",
    "Let concider group G with operation  $(G,*)$ and <b>a</b>, <b>b</b> and <b>c</b> are elements in the group; Then:-\n",
    "    \n",
    "- <b>Closure</b> : \n",
    " - For all elements in G the result of binary operation (a * b) is also in group element set.\n",
    "- <b>Associativity</b>:\n",
    " - For all a, b and c in G, $(a * b) * c = a * (b * c)$.\n",
    "- <b>Identity element</b>:\n",
    " - There exists an element <b>e</b> in G such that, for every element a in G, the equation \n",
    "$e * a = a * e = a$\n",
    "- <b>Inverse element</b>:\n",
    " - For each a in G, there exists an element b in G, commonly denoted $a^{-1}$ , such that \n",
    "$a * b = b * a = e$\n",
    "where e is the identity element.\n",
    "\n",
    "More on Mathamatical defenination of a Group go to https://en.wikipedia.org/wiki/Group_(mathematics)"
   ]
  },
  {
   "cell_type": "markdown",
   "metadata": {},
   "source": [
    "### Constructiong groups via Grouplib\n",
    "#### Cyclic Groups\n"
   ]
  },
  {
   "cell_type": "code",
   "execution_count": null,
   "metadata": {},
   "outputs": [],
   "source": [
    "from Grouplib import *\n",
    "import seaborn as sns\n",
    "import matplotlib.pyplot as plt\n",
    "C3 = Group.cyclic(3,name=u'\\u21242')\n",
    "print(C3)"
   ]
  },
  {
   "cell_type": "code",
   "execution_count": null,
   "metadata": {},
   "outputs": [],
   "source": [
    "C3.plot()"
   ]
  },
  {
   "cell_type": "code",
   "execution_count": null,
   "metadata": {},
   "outputs": [],
   "source": [
    "C3.multiplication_table"
   ]
  },
  {
   "cell_type": "markdown",
   "metadata": {},
   "source": [
    "#### Symitric Group"
   ]
  },
  {
   "cell_type": "code",
   "execution_count": null,
   "metadata": {},
   "outputs": [],
   "source": [
    "from Grouplib import *\n",
    "S4 = Group.symmetric(4)\n",
    "print(S4)"
   ]
  },
  {
   "cell_type": "code",
   "execution_count": null,
   "metadata": {},
   "outputs": [],
   "source": [
    "%matplotlib inline\n",
    "S4.plot(annot=False)"
   ]
  },
  {
   "cell_type": "markdown",
   "metadata": {},
   "source": [
    "#### Dihedral Groups"
   ]
  },
  {
   "cell_type": "code",
   "execution_count": null,
   "metadata": {},
   "outputs": [],
   "source": [
    "#import Group\n",
    "D4 = Group.dihedral(4)\n",
    "print(D4)"
   ]
  },
  {
   "cell_type": "code",
   "execution_count": null,
   "metadata": {},
   "outputs": [],
   "source": [
    "D4.plot()"
   ]
  },
  {
   "cell_type": "markdown",
   "metadata": {},
   "source": [
    "#### Create a Group object from list of python objects and a binary operation.\n",
    "```python\n",
    "Group.from_definition(operation: callable, element_set: list, parse: callable)-> Group Object\n",
    "```\n",
    "- <b>operation: </b> The binary operation of the group.\n",
    "- <b>element_set: </b> The group's elements list.\n",
    "- <b>parse(optional): </b> The elements of the group label will be registered by output of this function.\n",
    "\n",
    "\n",
    "The fuction will accept any python object. However, the when constarting the multiplication table it will by default it will the __str__() of the object. \n",
    "Sometimes the result of __str__() of a python object that means the same thing outputs difrrent strings such as complex(0,1) can be '1j', '0+1j' or '-0+1j' which falsly will be registered as different elements. That where the <b>parse</b> function option so the user make the python element labels unique; as for the python object <b>Complex()</b> the below <b>parse</b> function can be used:-\n",
    "\n",
    "\n",
    "```python\n",
    "def parse_complex(com):\n",
    "    def sign(x):\n",
    "        return '+' if x >= 0 else '-'\n",
    "    return '{}{}{}{}j'.format(sign(com.real), com.real, sign(com.imag), com.imag)\n",
    "```\n",
    "\n",
    "\n",
    "\n",
    "Example:-\n",
    "Let concider Grup G with the element set {$1$, $-1$, $i$, $-i$} under multiplication.\n"
   ]
  },
  {
   "cell_type": "code",
   "execution_count": null,
   "metadata": {},
   "outputs": [],
   "source": [
    "def parse_complex(com):\n",
    "    def sign(x):\n",
    "        return '+' if x >= 0 else '-'\n",
    "    return '{}{}{}{}j'.format(sign(com.real), abs(com.real), sign(com.imag), abs(com.imag))\n",
    "\n",
    "g = Group.from_definition(\n",
    "    lambda x, y: x * y, \n",
    "    [complex(1, 0), complex(-1, 0), \n",
    "     complex(0, 1), complex(0, -1)],\n",
    "    parse_complex)\n",
    "g.multiplication_table"
   ]
  },
  {
   "cell_type": "code",
   "execution_count": null,
   "metadata": {},
   "outputs": [],
   "source": [
    "g.plot()"
   ]
  },
  {
   "cell_type": "markdown",
   "metadata": {},
   "source": [
    "### Direct and Semi-direct products"
   ]
  },
  {
   "cell_type": "markdown",
   "metadata": {},
   "source": [
    "#### Direct product\n",
    "\n",
    "Let there be gorup $(G,*)$ and $(H,•)$ then the direct product is\n",
    "\n",
    "$(G,*)\\times(H,•) = (g1 * g2 , h1 • h2)$"
   ]
  },
  {
   "cell_type": "code",
   "execution_count": null,
   "metadata": {},
   "outputs": [],
   "source": [
    "g = Group.from_definition(\n",
    "    lambda x, y: x * y, \n",
    "    [complex(1, 0), complex(-1, 0), \n",
    "     complex(0, 1), complex(0, -1)],\n",
    "    parse_complex)\n",
    "C3 = Group.cyclic(2)\n",
    "\n",
    "g_c3 = Group.direct_product(g, C3)\n",
    "g_c3.plot()"
   ]
  },
  {
   "cell_type": "markdown",
   "metadata": {},
   "source": [
    "#### Mappings"
   ]
  },
  {
   "cell_type": "code",
   "execution_count": null,
   "metadata": {},
   "outputs": [],
   "source": [
    "from mapping import *\n",
    "%matplotlib inline\n",
    "m = Mapping.create([0, 1, 2, 3], [0, 3, 1, 2])\n"
   ]
  },
  {
   "cell_type": "code",
   "execution_count": null,
   "metadata": {},
   "outputs": [],
   "source": []
  },
  {
   "cell_type": "markdown",
   "metadata": {},
   "source": [
    "#### Semidirect product\n",
    "Let there be gorup $(G,*)$ and $(H,•)$ with mapping fuction $\\phi:G\\rightarrow H$ then the semidirect product is:-\n",
    "\n",
    "$(G,*)\\times(H,•) = (g1 * g2 ,\\phi(h1 • h2) )$"
   ]
  },
  {
   "cell_type": "code",
   "execution_count": null,
   "metadata": {},
   "outputs": [],
   "source": [
    "phi = Mapping.create([0, 1, 2, 3],[0,2, 1, 0])\n",
    "semi_g_c3 = Group.semidirect_product(g, C3, phi)\n",
    "semi_g_c3.plot()"
   ]
  },
  {
   "cell_type": "markdown",
   "metadata": {},
   "source": [
    "#### Create a group from file\n",
    "\n",
    "File guidlines:\n",
    "- The file must only contain the multiplication table \n",
    "- The default delimiter is tab\n",
    "- It must a valid multiplication table where its a squre latin grid\n",
    "- The multiplication table entries are treated as labels \n",
    "- The first entry is always the Identity element\n",
    "\n",
    "Group.from_file(filename,delimiter,name)\n",
    "        * Reads Cayley table (Multiplication table) from a file.\n",
    "        - [!] The Elements are separated by the delimiter (default : Tab) and row every new line.\n",
    "        - [!] The table must obey the Group Axiom. ie the table must be a latin grid.\n",
    "        -> :param filename: The file path and name\n",
    "        -> :param delimiter: string that separate the group elements in a row, default Tab.\n",
    "        -> :param name :(optional) group name \n",
    "        <- :return: Group Object"
   ]
  },
  {
   "cell_type": "code",
   "execution_count": null,
   "metadata": {},
   "outputs": [],
   "source": [
    "text_file = open('TestData\\order9.tsv', 'r').readlines()\n",
    "for line in text_file:\n",
    "    print(line)"
   ]
  },
  {
   "cell_type": "code",
   "execution_count": null,
   "metadata": {},
   "outputs": [],
   "source": [
    "from Grouplib import *\n",
    "g_from_file = Group.from_file('TestData\\order8.tsv',name='Group1')\n",
    "g_from_file.plot()\n",
    "print(g_from_file)\n"
   ]
  },
  {
   "cell_type": "markdown",
   "metadata": {},
   "source": [
    "## Group Properties"
   ]
  },
  {
   "cell_type": "markdown",
   "metadata": {},
   "source": [
    "### Generators"
   ]
  },
  {
   "cell_type": "code",
   "execution_count": null,
   "metadata": {},
   "outputs": [],
   "source": [
    "\n",
    "group1 = Group.from_file('TestData\\order9.tsv',name='Group1')\n",
    "print(group1)\n"
   ]
  },
  {
   "cell_type": "markdown",
   "metadata": {},
   "source": [
    "### Orbits"
   ]
  },
  {
   "cell_type": "code",
   "execution_count": null,
   "metadata": {},
   "outputs": [],
   "source": [
    "group1.orbits"
   ]
  },
  {
   "cell_type": "markdown",
   "metadata": {},
   "source": [
    "### Subgroups"
   ]
  },
  {
   "cell_type": "code",
   "execution_count": null,
   "metadata": {},
   "outputs": [],
   "source": [
    "from Grouplib import *\n",
    "group1 = Group.symmetric(3)\n",
    "for sg in  group1.subgroups:\n",
    "    print(sg['subgroup'])\n",
    "    print('_____________________________________________________')"
   ]
  },
  {
   "cell_type": "code",
   "execution_count": null,
   "metadata": {},
   "outputs": [],
   "source": [
    "group1.find_isomorphic_mapping(Group.cyclic(2))"
   ]
  },
  {
   "cell_type": "code",
   "execution_count": null,
   "metadata": {},
   "outputs": [],
   "source": [
    "from Grouplib import *\n",
    "group1 = Group.from_file('TestData\\order8.tsv',name='Group1')\n",
    "group1.orbits"
   ]
  },
  {
   "cell_type": "code",
   "execution_count": null,
   "metadata": {},
   "outputs": [],
   "source": [
    "group1.is_associative"
   ]
  },
  {
   "cell_type": "code",
   "execution_count": null,
   "metadata": {},
   "outputs": [],
   "source": [
    "from Grouplib import *\n",
    "group1 = Group.from_file('TestData\\order9.tsv',name='Group1')"
   ]
  },
  {
   "cell_type": "code",
   "execution_count": null,
   "metadata": {},
   "outputs": [],
   "source": [
    "### Conjugacy classes"
   ]
  },
  {
   "cell_type": "code",
   "execution_count": null,
   "metadata": {},
   "outputs": [],
   "source": [
    "from Grouplib import *\n",
    "import pandas as pd\n",
    "\n",
    "D6 = Group.dihedral(6)\n",
    "#D6.center\n",
    "D6.conjugacy_classes\n",
    "#D6.conjugacy_class_of(2)\n",
    "#D6.orbits.iloc[:,2].dropna().astype(int).tolist()\n",
    "#D6.generators"
   ]
  },
  {
   "cell_type": "code",
   "execution_count": null,
   "metadata": {},
   "outputs": [],
   "source": [
    "#group1.conjugacy_classes"
   ]
  },
  {
   "cell_type": "code",
   "execution_count": null,
   "metadata": {},
   "outputs": [],
   "source": [
    "from itertools import product\n",
    "from Permutation import *\n",
    "\n",
    "\n",
    "def random_latin_square(size: int)->pd.DataFrame:\n",
    "    while True:\n",
    "        square = [[i for i in range(size)]]\n",
    "        square = square + [[i] for i in range(1, size)]\n",
    "        square = pd.DataFrame(square)\n",
    "        square.fillna(value=size, inplace=True)\n",
    "        complete_set = set(range(size))\n",
    "        try:\n",
    "            for row_ind, col_ind in product(range(1, size), repeat=2):\n",
    "                collision = set(map(int, square.iloc[row_ind, :]))\n",
    "                collision = set(map(int, square.iloc[:, col_ind])) | collision\n",
    "                allowed_entries = list(complete_set.difference(collision))\n",
    "                n = randint(0, len(allowed_entries)-1)\n",
    "                square.iat[row_ind, col_ind] = allowed_entries[n]\n",
    "            break\n",
    "        except ValueError:\n",
    "            continue\n",
    "    square = square.astype(int)\n",
    "    return square\n",
    "\n",
    "while Ture:\n",
    "sq = random_latin_square(8)\n",
    "print(sq)\n",
    "group8 = Group(sq, name='Group8')\n",
    "group8.plot()"
   ]
  },
  {
   "cell_type": "code",
   "execution_count": null,
   "metadata": {},
   "outputs": [],
   "source": [
    "cl = {1, 6 , 8}\n",
    "cl = [_ for _ in cl]\n",
    "cl = cl.sort()\n",
    "print(cl)"
   ]
  },
  {
   "cell_type": "code",
   "execution_count": null,
   "metadata": {},
   "outputs": [],
   "source": []
  },
  {
   "cell_type": "code",
   "execution_count": null,
   "metadata": {},
   "outputs": [],
   "source": [
    "from Mapping import *\n"
   ]
  },
  {
   "cell_type": "code",
   "execution_count": null,
   "metadata": {},
   "outputs": [],
   "source": [
    "from Grouplib import *\n",
    "\n",
    "D = Group.dihedral(3)\n",
    "S = Group.symmetric(3)\n",
    "D.generators\n"
   ]
  },
  {
   "cell_type": "code",
   "execution_count": null,
   "metadata": {},
   "outputs": [],
   "source": []
  }
 ],
 "metadata": {
  "anaconda-cloud": {},
  "kernelspec": {
   "display_name": "Python 3",
   "language": "python",
   "name": "python3"
  },
  "language_info": {
   "codemirror_mode": {
    "name": "ipython",
    "version": 3
   },
   "file_extension": ".py",
   "mimetype": "text/x-python",
   "name": "python",
   "nbconvert_exporter": "python",
   "pygments_lexer": "ipython3",
   "version": "3.6.2"
  }
 },
 "nbformat": 4,
 "nbformat_minor": 1
}
